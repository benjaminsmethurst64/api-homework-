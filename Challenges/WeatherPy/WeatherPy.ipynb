{
 "cells": [
  {
   "cell_type": "markdown",
   "metadata": {},
   "source": [
    "# WeatherPy\n",
    "----\n",
    "\n",
    "#### Note\n",
    "* Instructions have been included for each segment. You do not have to follow them exactly, but they are included to help you think through the steps."
   ]
  },
  {
   "cell_type": "markdown",
   "metadata": {},
   "source": [
    "#### Summary\n",
    "* Regardless of hemishpere there seems to be little correlation between latitude and wind speed. Both hemispheres hover between 5 and 10 mph with wind speed decreasing slightly as you approach the equator. I would predict that there are environmental factors that play a much larger part in determining wind speed, such as structures, altitude, and proximity to bodies of water. Further studies could be done to show connctions between these factors and wind. \n",
    "* Like wind speeds, hemispheres and latitude has little to do with cloudiness. The r-squared values are under .1 for both hemispheres displayed and the data displayed through scatter plots shows a large variance in cloudiness across the plot. I would imagine that another sample of cities would show the same spread of data. \n",
    "* As expected, as you approach the equator temperature rises. This shown for both the southern and northern hemisphere as approximately the same rate. Any variance in rising temperature as you approach the equator can most likely be accounted for from the sample of cities taken. "
   ]
  },
  {
   "cell_type": "code",
   "execution_count": 13,
   "metadata": {
    "scrolled": true
   },
   "outputs": [],
   "source": [
    "# Dependencies and Setup\n",
    "import matplotlib.pyplot as plt\n",
    "import pandas as pd\n",
    "import numpy as np\n",
    "import requests\n",
    "import time\n",
    "from scipy.stats import linregress\n",
    "\n",
    "# Import API key\n",
    "from api_keys import weather_api_key\n",
    "\n",
    "# Incorporated citipy to determine city based on latitude and longitude\n",
    "from citipy import citipy\n",
    "\n",
    "# Output File (CSV)\n",
    "output_data_file = \"output_data/cities.csv\"\n",
    "\n",
    "# Range of latitudes and longitudes\n",
    "lat_range = (-90, 90)\n",
    "lng_range = (-180, 180)"
   ]
  },
  {
   "cell_type": "markdown",
   "metadata": {},
   "source": [
    "## Generate Cities List"
   ]
  },
  {
   "cell_type": "code",
   "execution_count": 14,
   "metadata": {},
   "outputs": [
    {
     "data": {
      "text/plain": [
       "594"
      ]
     },
     "execution_count": 14,
     "metadata": {},
     "output_type": "execute_result"
    }
   ],
   "source": [
    "# List for holding lat_lngs and cities\n",
    "lat_lngs = []\n",
    "cities = []\n",
    "\n",
    "# Create a set of random lat and lng combinations\n",
    "lats = np.random.uniform(low=-90.000, high=90.000, size=1500)\n",
    "lngs = np.random.uniform(low=-180.000, high=180.000, size=1500)\n",
    "lat_lngs = zip(lats, lngs)\n",
    "\n",
    "# Identify nearest city for each lat, lng combination\n",
    "for lat_lng in lat_lngs:\n",
    "    city = citipy.nearest_city(lat_lng[0], lat_lng[1]).city_name\n",
    "    \n",
    "    # If the city is unique, then add it to a our cities list\n",
    "    if city not in cities:\n",
    "        cities.append(city)\n",
    "\n",
    "# Print the city count to confirm sufficient count\n",
    "len(cities)"
   ]
  },
  {
   "cell_type": "markdown",
   "metadata": {},
   "source": [
    "### Perform API Calls\n",
    "* Perform a weather check on each city using a series of successive API calls.\n",
    "* Include a print log of each city as it'sbeing processed (with the city number and city name).\n"
   ]
  },
  {
   "cell_type": "code",
   "execution_count": 15,
   "metadata": {},
   "outputs": [
    {
     "name": "stdout",
     "output_type": "stream",
     "text": [
      "Beginning Data Retrieval\n",
      "-------------------------\n",
      "Processing Record | makat found\n",
      "Processing Record | kapaa found\n",
      "Processing Record | castro found\n",
      "Processing Record | nantucket found\n",
      "Processing Record | abu samrah found\n",
      "Processing Record | hobart found\n",
      "Processing Record | bluff found\n",
      "Processing Record | taolanaro not found\n",
      "Processing Record | tottori found\n",
      "Processing Record | kahului found\n",
      "Processing Record | belushya guba not found\n",
      "Processing Record | cape town found\n",
      "Processing Record | harper found\n",
      "Processing Record | tabriz found\n",
      "Processing Record | zyryanka found\n",
      "Processing Record | rikitea found\n",
      "Processing Record | vung tau found\n",
      "Processing Record | ushuaia found\n",
      "Processing Record | lebu found\n",
      "Processing Record | cabedelo found\n",
      "Processing Record | mahebourg found\n",
      "Processing Record | vaini found\n",
      "Processing Record | narsaq found\n",
      "Processing Record | jucurutu found\n",
      "Processing Record | avarua found\n",
      "Processing Record | ust-nera found\n",
      "Processing Record | sulangan found\n",
      "Processing Record | brazzaville found\n",
      "Processing Record | jamestown found\n",
      "Processing Record | barrow found\n",
      "Processing Record | port pirie found\n",
      "Processing Record | saint-philippe found\n",
      "Processing Record | qaanaaq found\n",
      "Processing Record | ribeira grande found\n",
      "Processing Record | olafsvik found\n",
      "Processing Record | vila velha found\n",
      "Processing Record | albany found\n",
      "Processing Record | purpe found\n",
      "Processing Record | matagami found\n",
      "Processing Record | punta arenas found\n",
      "Processing Record | tilichiki found\n",
      "Processing Record | atuona found\n",
      "Processing Record | upernavik found\n",
      "Processing Record | tiksi found\n",
      "Processing Record | hyeres found\n",
      "Processing Record | constitucion found\n",
      "Processing Record | husavik found\n",
      "Processing Record | tuatapere found\n",
      "Processing Record | manta found\n",
      "Processing Record | pevek found\n",
      "Processing Record | bredasdorp found\n",
      "Processing Record | georgetown found\n",
      "Processing Record | mataura found\n",
      "Processing Record | carnarvon found\n",
      "Processing Record | bethel found\n",
      "Processing Record | winslow found\n",
      "Processing Record | asfi found\n",
      "Processing Record | poshtove found\n",
      "Processing Record | barentsburg not found\n",
      "Processing Record | cururupu found\n",
      "Processing Record | ilulissat found\n",
      "Processing Record | miles city found\n",
      "Processing Record | delta del tigre found\n",
      "Processing Record | norman wells found\n",
      "Processing Record | bandarbeyla found\n",
      "Processing Record | ulladulla found\n",
      "Processing Record | port alfred found\n",
      "Processing Record | hofn found\n",
      "Processing Record | butaritari found\n",
      "Processing Record | ketchikan found\n",
      "Processing Record | badulla found\n",
      "Processing Record | sumbawa not found\n",
      "Processing Record | pisco found\n",
      "Processing Record | itaporanga found\n",
      "Processing Record | arraial do cabo found\n",
      "Processing Record | luoyang found\n",
      "Processing Record | tessalit found\n",
      "Processing Record | esperance found\n",
      "Processing Record | lagos found\n",
      "Processing Record | longyearbyen found\n",
      "Processing Record | skjervoy found\n",
      "Processing Record | vaitupu not found\n",
      "Processing Record | alyangula found\n",
      "Processing Record | hermanus found\n",
      "Processing Record | saint-augustin found\n",
      "Processing Record | mount isa found\n",
      "Processing Record | pacific grove found\n",
      "Processing Record | katsuura found\n",
      "Processing Record | ust-omchug found\n",
      "Processing Record | plettenberg bay found\n",
      "Processing Record | attawapiskat not found\n",
      "Processing Record | ahipara found\n",
      "Processing Record | hilo found\n",
      "Processing Record | turukhansk found\n",
      "Processing Record | westport found\n",
      "Processing Record | warmbad found\n",
      "Processing Record | sentyabrskiy not found\n",
      "Processing Record | comodoro rivadavia found\n",
      "Processing Record | thompson found\n",
      "Processing Record | yellowknife found\n",
      "Processing Record | hithadhoo found\n",
      "Processing Record | kita found\n",
      "Processing Record | ardu found\n",
      "Processing Record | puerto ayora found\n",
      "Processing Record | new norfolk found\n",
      "Processing Record | saskylakh found\n",
      "Processing Record | severo-kurilsk found\n",
      "Processing Record | yulara found\n",
      "Processing Record | busselton found\n",
      "Processing Record | saldanha found\n",
      "Processing Record | kaitangata found\n",
      "Processing Record | ancud found\n",
      "Processing Record | oistins found\n",
      "Processing Record | alexandria found\n",
      "Processing Record | gari found\n",
      "Processing Record | samarai found\n",
      "Processing Record | imeni poliny osipenko found\n",
      "Processing Record | portland found\n",
      "Processing Record | magna found\n",
      "Processing Record | baykit found\n",
      "Processing Record | san cristobal found\n",
      "Processing Record | bukachacha found\n",
      "Processing Record | la ronge found\n",
      "Processing Record | mon found\n",
      "Processing Record | mys shmidta not found\n",
      "Processing Record | trinidad found\n",
      "Processing Record | victoria found\n",
      "Processing Record | talnakh found\n",
      "Processing Record | malayu-an not found\n",
      "Processing Record | jalu found\n",
      "Processing Record | berlevag found\n",
      "Processing Record | havoysund found\n",
      "Processing Record | igurubi found\n",
      "Processing Record | dunedin found\n",
      "Processing Record | porto novo found\n",
      "Processing Record | huatulco found\n",
      "Processing Record | bengkulu found\n",
      "Processing Record | ballina found\n",
      "Processing Record | saint george found\n",
      "Processing Record | rio grande found\n",
      "Processing Record | nishihara found\n",
      "Processing Record | henties bay found\n",
      "Processing Record | namibe found\n",
      "Processing Record | surt found\n",
      "Processing Record | lavrentiya found\n",
      "Processing Record | mar del plata found\n",
      "Processing Record | damietta found\n",
      "Processing Record | kirkcudbright found\n",
      "Processing Record | natal found\n",
      "Processing Record | guajara-mirim not found\n",
      "Processing Record | san jose found\n",
      "Processing Record | constantine found\n",
      "Processing Record | touros found\n",
      "Processing Record | banda aceh found\n",
      "Processing Record | ulaangom found\n",
      "Processing Record | kalmunai found\n",
      "Processing Record | lata found\n",
      "Processing Record | mandalgovi found\n",
      "Processing Record | kidal found\n",
      "Processing Record | port lincoln found\n",
      "Processing Record | peniche found\n",
      "Processing Record | morondava found\n",
      "Processing Record | pascagoula found\n",
      "Processing Record | khatanga found\n",
      "Processing Record | dhanwar found\n",
      "Processing Record | faanui found\n",
      "Processing Record | galesong found\n",
      "Processing Record | margate found\n",
      "Processing Record | talara found\n",
      "Processing Record | petropavlovka found\n",
      "Processing Record | kalianget found\n",
      "Processing Record | nanortalik found\n",
      "Processing Record | leningradskiy found\n",
      "Processing Record | touho found\n",
      "Processing Record | karakendzha not found\n",
      "Processing Record | izberbash found\n",
      "Processing Record | amberg found\n",
      "Processing Record | eyl found\n",
      "Processing Record | nikolskoye found\n",
      "Processing Record | asimion found\n",
      "Processing Record | la romana found\n",
      "Processing Record | souillac found\n",
      "Processing Record | blairmore found\n",
      "Processing Record | tuktoyaktuk found\n",
      "Processing Record | najran found\n",
      "Processing Record | moerai found\n",
      "Processing Record | gravdal found\n",
      "Processing Record | robe found\n",
      "Processing Record | hovd found\n",
      "Processing Record | puerto carreno found\n",
      "Processing Record | provideniya found\n",
      "Processing Record | port elizabeth found\n",
      "Processing Record | kodiak found\n",
      "Processing Record | urdzhar not found\n",
      "Processing Record | mayumba found\n",
      "Processing Record | aitape found\n",
      "Processing Record | illoqqortoormiut not found\n",
      "Processing Record | amderma not found\n",
      "Processing Record | road town found\n",
      "Processing Record | larsnes found\n",
      "Processing Record | east london found\n",
      "Processing Record | staryy nadym found\n",
      "Processing Record | abadan found\n",
      "Processing Record | marysville found\n",
      "Processing Record | beringovskiy found\n",
      "Processing Record | iskateley found\n",
      "Processing Record | hasaki found\n",
      "Processing Record | muros found\n",
      "Processing Record | fairbanks found\n",
      "Processing Record | airai found\n",
      "Processing Record | pitkyaranta found\n",
      "Processing Record | chokurdakh found\n",
      "Processing Record | klaksvik found\n",
      "Processing Record | vila franca do campo found\n",
      "Processing Record | faya found\n",
      "Processing Record | abalak found\n",
      "Processing Record | san patricio found\n",
      "Processing Record | iqaluit found\n",
      "Processing Record | kavieng found\n",
      "Processing Record | boa vista found\n",
      "Processing Record | campbellton found\n",
      "Processing Record | torbay found\n",
      "Processing Record | uwayl not found\n",
      "Processing Record | schluchtern found\n",
      "Processing Record | auki found\n",
      "Processing Record | phrae found\n",
      "Processing Record | palaikastron found\n",
      "Processing Record | makokou found\n"
     ]
    },
    {
     "name": "stdout",
     "output_type": "stream",
     "text": [
      "Processing Record | port hardy found\n",
      "Processing Record | maniitsoq found\n",
      "Processing Record | pangnirtung found\n",
      "Processing Record | bayir found\n",
      "Processing Record | petropavlovsk-kamchatskiy found\n",
      "Processing Record | kirakira found\n",
      "Processing Record | bahia blanca found\n",
      "Processing Record | krasnoselkup found\n",
      "Processing Record | luanda found\n",
      "Processing Record | namatanai found\n",
      "Processing Record | watertown found\n",
      "Processing Record | requena found\n",
      "Processing Record | montague found\n",
      "Processing Record | atar found\n",
      "Processing Record | fare found\n",
      "Processing Record | palencia found\n",
      "Processing Record | salamiyah found\n",
      "Processing Record | sofiysk not found\n",
      "Processing Record | markova found\n",
      "Processing Record | marshall found\n",
      "Processing Record | banjarmasin found\n",
      "Processing Record | dikson found\n",
      "Processing Record | fortuna found\n",
      "Processing Record | alofi found\n",
      "Processing Record | salalah found\n",
      "Processing Record | evensk found\n",
      "Processing Record | itarema found\n",
      "Processing Record | aventura found\n",
      "Processing Record | wattegama found\n",
      "Processing Record | barrington found\n",
      "Processing Record | tasiilaq found\n",
      "Processing Record | tomatlan found\n",
      "Processing Record | vegreville found\n",
      "Processing Record | verkhnetulomskiy found\n",
      "Processing Record | lazdijai found\n",
      "Processing Record | bria found\n",
      "Processing Record | acajutla found\n",
      "Processing Record | kapustin yar found\n",
      "Processing Record | bathsheba found\n",
      "Processing Record | idenao found\n",
      "Processing Record | marcona not found\n",
      "Processing Record | dwarka found\n",
      "Processing Record | ambon found\n",
      "Processing Record | buritis found\n",
      "Processing Record | paamiut found\n",
      "Processing Record | half moon bay found\n",
      "Processing Record | matameye not found\n",
      "Processing Record | port blair found\n",
      "Processing Record | anderson found\n",
      "Processing Record | donegal found\n",
      "Processing Record | mayor pablo lagerenza found\n",
      "Processing Record | sitka found\n",
      "Processing Record | angoche found\n",
      "Processing Record | jacareacanga found\n",
      "Processing Record | tsihombe not found\n",
      "Processing Record | kholm found\n",
      "Processing Record | annau found\n",
      "Processing Record | cherskiy found\n",
      "Processing Record | tambo found\n",
      "Processing Record | victoria point found\n",
      "Processing Record | kaeo found\n",
      "Processing Record | louisbourg not found\n",
      "Processing Record | dingle found\n",
      "Processing Record | isangel found\n",
      "Processing Record | manono found\n",
      "Processing Record | padang found\n",
      "Processing Record | dharchula found\n",
      "Processing Record | ahuimanu found\n",
      "Processing Record | saint anthony found\n",
      "Processing Record | zapolyarnyy found\n",
      "Processing Record | nyiregyhaza found\n",
      "Processing Record | deputatskiy found\n",
      "Processing Record | flinders found\n",
      "Processing Record | college found\n",
      "Processing Record | ondorhaan not found\n",
      "Processing Record | sohag found\n",
      "Processing Record | grand river south east not found\n",
      "Processing Record | tsuruoka found\n",
      "Processing Record | kismayo found\n",
      "Processing Record | homer found\n",
      "Processing Record | alta gracia found\n",
      "Processing Record | antsla found\n",
      "Processing Record | barreirinhas found\n",
      "Processing Record | shingu found\n",
      "Processing Record | cabo san lucas found\n",
      "Processing Record | bandar-e anzali found\n",
      "Processing Record | magway found\n",
      "Processing Record | ust-maya found\n",
      "Processing Record | mmabatho found\n",
      "Processing Record | inyonga found\n",
      "Processing Record | brookings found\n",
      "Processing Record | tutoia found\n",
      "Processing Record | high level found\n",
      "Processing Record | soderhamn found\n",
      "Processing Record | antofagasta found\n",
      "Processing Record | douglas found\n",
      "Processing Record | lompoc found\n",
      "Processing Record | jeremie found\n",
      "Processing Record | ayan found\n",
      "Processing Record | samusu not found\n",
      "Processing Record | hervey bay found\n",
      "Processing Record | nioro found\n",
      "Processing Record | kem found\n",
      "Processing Record | dhandhuka found\n",
      "Processing Record | sambava found\n",
      "Processing Record | visby found\n",
      "Processing Record | lavumisa found\n",
      "Processing Record | mrirt not found\n",
      "Processing Record | birao found\n",
      "Processing Record | hanyang found\n",
      "Processing Record | tumannyy not found\n",
      "Processing Record | kavaratti found\n",
      "Processing Record | santona found\n",
      "Processing Record | palmer found\n",
      "Processing Record | maarianhamina found\n",
      "Processing Record | cayenne found\n",
      "Processing Record | moron found\n",
      "Processing Record | yalutorovsk found\n",
      "Processing Record | fuengirola found\n",
      "Processing Record | coihaique found\n",
      "Processing Record | guarapari found\n",
      "Processing Record | aquiraz found\n",
      "Processing Record | shamkhal found\n",
      "Processing Record | ligayan found\n",
      "Processing Record | te anau found\n",
      "Processing Record | zabid found\n",
      "Processing Record | vrangel found\n",
      "Processing Record | dzhusaly not found\n",
      "Processing Record | ponta do sol found\n",
      "Processing Record | mackay found\n",
      "Processing Record | nome found\n",
      "Processing Record | jujuy not found\n",
      "Processing Record | soyo found\n",
      "Processing Record | khilok found\n",
      "Processing Record | bilma found\n",
      "Processing Record | anchorage found\n",
      "Processing Record | stromness found\n",
      "Processing Record | saleaula not found\n",
      "Processing Record | camabatela found\n",
      "Processing Record | porto de moz found\n",
      "Processing Record | cidreira found\n",
      "Processing Record | karakol found\n",
      "Processing Record | batagay-alyta found\n",
      "Processing Record | aksu found\n",
      "Processing Record | adana found\n",
      "Processing Record | felidhoo not found\n",
      "Processing Record | donskoye found\n",
      "Processing Record | traverse city found\n",
      "Processing Record | vao found\n",
      "Processing Record | hambantota found\n",
      "Processing Record | ixtapa found\n",
      "Processing Record | grindavik found\n",
      "Processing Record | meulaboh found\n",
      "Processing Record | mount gambier found\n",
      "Processing Record | tyumentsevo found\n",
      "Processing Record | witu found\n",
      "Processing Record | san isidro found\n",
      "Processing Record | saryg-sep found\n",
      "Processing Record | marawi found\n",
      "Processing Record | hay river found\n",
      "Processing Record | panzhihua found\n",
      "Processing Record | procida found\n",
      "Processing Record | caravelas found\n",
      "Processing Record | lamu found\n",
      "Processing Record | lasem found\n",
      "Processing Record | calbuco found\n",
      "Processing Record | longyan found\n",
      "Processing Record | pemba found\n",
      "Processing Record | zhigansk found\n",
      "Processing Record | amazar found\n",
      "Processing Record | bathurst found\n",
      "Processing Record | dolbeau not found\n",
      "Processing Record | sestri levante found\n",
      "Processing Record | luderitz found\n",
      "Processing Record | bogorodskoye found\n",
      "Processing Record | chiang klang found\n",
      "Processing Record | seoul found\n",
      "Processing Record | capreol found\n",
      "Processing Record | qobustan found\n",
      "Processing Record | abonnema found\n",
      "Processing Record | fort nelson found\n",
      "Processing Record | winnemucca found\n",
      "Processing Record | stekolnyy not found\n",
      "Processing Record | ayutla found\n",
      "Processing Record | atasu found\n",
      "Processing Record | alugan found\n",
      "Processing Record | kunya found\n",
      "Processing Record | meyungs not found\n",
      "Processing Record | udachnyy found\n",
      "Processing Record | dorado found\n",
      "Processing Record | manuk mangkaw found\n",
      "Processing Record | umzimvubu not found\n",
      "Processing Record | enshi found\n",
      "Processing Record | bendigo found\n",
      "Processing Record | nizhneyansk not found\n",
      "Processing Record | mana found\n",
      "Processing Record | coquimbo found\n",
      "Processing Record | atlantic city found\n",
      "Processing Record | eirunepe found\n",
      "Processing Record | alekseyevsk found\n",
      "Processing Record | asau found\n",
      "Processing Record | camapua found\n",
      "Processing Record | haines junction found\n",
      "Processing Record | beira found\n",
      "Processing Record | loa janan found\n",
      "Processing Record | verkhnyaya toyma found\n",
      "Processing Record | muriwai beach found\n",
      "Processing Record | isla aguada found\n",
      "Processing Record | salta found\n",
      "Processing Record | chernyshevskiy found\n",
      "Processing Record | mecca found\n",
      "Processing Record | wanning found\n",
      "Processing Record | glyadyanskoye found\n",
      "Processing Record | qaqortoq found\n",
      "Processing Record | huarmey found\n",
      "Processing Record | balaipungut found\n",
      "Processing Record | nizwa found\n",
      "Processing Record | aswan found\n",
      "Processing Record | minab found\n",
      "Processing Record | toliary not found\n",
      "Processing Record | abu dhabi found\n",
      "Processing Record | tinskoy found\n",
      "Processing Record | sirsilla found\n",
      "Processing Record | floro found\n",
      "Processing Record | puerto escondido found\n",
      "Processing Record | itoman found\n",
      "Processing Record | bambous virieux found\n",
      "Processing Record | puno found\n",
      "Processing Record | dujuma not found\n",
      "Processing Record | shirvan found\n",
      "Processing Record | oyek found\n"
     ]
    },
    {
     "name": "stdout",
     "output_type": "stream",
     "text": [
      "Processing Record | san carlos de bariloche found\n",
      "Processing Record | shimoda found\n",
      "Processing Record | umm lajj found\n",
      "Processing Record | sao filipe found\n",
      "Processing Record | agadez found\n",
      "Processing Record | zamosc found\n",
      "Processing Record | grand gaube found\n",
      "Processing Record | kargasok found\n",
      "Processing Record | flin flon found\n",
      "Processing Record | avera found\n",
      "Processing Record | korla found\n",
      "Processing Record | canton found\n",
      "Processing Record | tete found\n",
      "Processing Record | bageshwar found\n",
      "Processing Record | ust-tsilma found\n",
      "Processing Record | pochutla found\n",
      "Processing Record | puri found\n",
      "Processing Record | beyneu found\n",
      "Processing Record | maiduguri found\n",
      "Processing Record | solnechnyy found\n",
      "Processing Record | amapa found\n",
      "Processing Record | lundamo found\n",
      "Processing Record | narrabri found\n",
      "Processing Record | quelimane found\n",
      "Processing Record | esmeraldas found\n",
      "Processing Record | umm bab found\n",
      "Processing Record | acapulco found\n",
      "Processing Record | nahan found\n",
      "Processing Record | areia branca found\n",
      "Processing Record | zabaykalsk found\n",
      "Processing Record | bertoua found\n",
      "Processing Record | saryshagan not found\n",
      "Processing Record | loudi found\n",
      "Processing Record | ostrovnoy found\n",
      "Processing Record | sturgeon bay found\n",
      "Processing Record | srednekolymsk found\n",
      "Processing Record | sur found\n",
      "Processing Record | rio gallegos found\n",
      "Processing Record | villa guerrero found\n",
      "Processing Record | awjilah found\n",
      "Processing Record | mabaruma found\n",
      "Processing Record | tautira found\n",
      "Processing Record | diu found\n",
      "Processing Record | saint-pascal not found\n",
      "Processing Record | chivay found\n",
      "Processing Record | laurel found\n",
      "Processing Record | palabuhanratu not found\n",
      "Processing Record | walvis bay found\n",
      "Processing Record | guozhen found\n",
      "Processing Record | huanren found\n",
      "Processing Record | port-cartier found\n",
      "Processing Record | salinopolis found\n",
      "Processing Record | sioux lookout found\n",
      "Processing Record | severo-yeniseyskiy found\n",
      "Processing Record | hobyo found\n",
      "Processing Record | vanino found\n",
      "Processing Record | aktash found\n",
      "Processing Record | tubruq not found\n",
      "Processing Record | san andres found\n",
      "Processing Record | uong bi found\n",
      "Processing Record | santa maria found\n",
      "Processing Record | ruatoria not found\n",
      "Processing Record | broome found\n",
      "Processing Record | tsiroanomandidy found\n",
      "Processing Record | hvide sande found\n",
      "Processing Record | richards bay found\n",
      "Processing Record | andenes found\n",
      "Processing Record | mayskiy found\n",
      "Processing Record | mixtequilla not found\n",
      "Processing Record | pula found\n",
      "Processing Record | sesheke found\n",
      "Processing Record | mossendjo found\n",
      "Processing Record | yusva not found\n",
      "Processing Record | fort saint james found\n",
      "Processing Record | sedalia found\n",
      "Processing Record | lac-megantic found\n",
      "Processing Record | riyadh found\n",
      "Processing Record | ayorou found\n",
      "Processing Record | tezu found\n",
      "Processing Record | inderborskiy not found\n",
      "Processing Record | gat found\n",
      "Processing Record | kisaran found\n",
      "Processing Record | esso found\n",
      "Processing Record | zeya found\n",
      "Processing Record | ca mau found\n",
      "Processing Record | huilong found\n",
      "Processing Record | son la found\n",
      "Processing Record | kununurra found\n",
      "Processing Record | alta floresta found\n",
      "Processing Record | rochegda found\n",
      "Processing Record | peterhead found\n",
      "Processing Record | quincy found\n",
      "Processing Record | pringsewu found\n",
      "Processing Record | majene found\n",
      "Processing Record | xichang found\n",
      "Processing Record | hamilton found\n",
      "Processing Record | kruisfontein found\n",
      "Processing Record | zhuzhou found\n",
      "Processing Record | marsh harbour found\n",
      "Processing Record | pauini found\n",
      "Processing Record | gizo found\n",
      "Processing Record | isiro found\n",
      "Processing Record | oktyabrskoye found\n",
      "Processing Record | vardo found\n",
      "Processing Record | soavinandriana found\n",
      "Processing Record | karratha found\n",
      "Processing Record | chota found\n",
      "Processing Record | hattiesburg found\n",
      "Processing Record | vestmanna found\n",
      "Processing Record | reconquista found\n",
      "Processing Record | podporozhye found\n",
      "Processing Record | itupiranga found\n",
      "Processing Record | buchanan found\n",
      "Processing Record | dumas found\n",
      "Processing Record | guerrero negro found\n",
      "Processing Record | genhe found\n",
      "Processing Record | mogadishu found\n",
      "Processing Record | karnobat found\n",
      "Processing Record | carutapera found\n",
      "Processing Record | new albany found\n",
      "Processing Record | kuito found\n",
      "Processing Record | iwanai found\n",
      "Processing Record | canico found\n",
      "Processing Record | novaya ladoga found\n",
      "Processing Record | boca do acre found\n",
      "Processing Record | hualmay found\n",
      "Processing Record | maputo found\n",
      "Processing Record | clyde river found\n",
      "Processing Record | alice springs found\n",
      "Processing Record | chapais found\n",
      "Processing Record | deep river found\n",
      "Processing Record | abashiri found\n",
      "Processing Record | gao found\n",
      "Processing Record | taoudenni found\n",
      "Processing Record | tsalka found\n"
     ]
    }
   ],
   "source": [
    "# Save config information.\n",
    "url = \"http://api.openweathermap.org/data/2.5/weather?\"\n",
    "units = \"imperial\"\n",
    "\n",
    "# Build partial query URL\n",
    "query_url = f\"{url}appid={weather_api_key}&units={units}&q=\"\n",
    "\n",
    "# set up lists to hold response info\n",
    "lat = []\n",
    "lng = []\n",
    "temp = []\n",
    "humidity = []\n",
    "cloud = []\n",
    "wind = []\n",
    "locations = []\n",
    "max_temp = []\n",
    "\n",
    "#Print log should look like:\n",
    "print(\"Beginning Data Retrieval\")\n",
    "print(\"-------------------------\")\n",
    "\n",
    "# Loop through the list of cities and perform a request for data on each. Add to log\n",
    "\n",
    "for city in cities:\n",
    "    target_url = query_url + city\n",
    "    response = requests.get(target_url).json()\n",
    "    try:\n",
    "        lat.append(response['coord']['lat'])\n",
    "        lng.append(response['coord']['lon'])\n",
    "        temp.append(response['main']['temp'])\n",
    "        humidity.append(response['main']['humidity'])\n",
    "        cloud.append(response['clouds']['all'])\n",
    "        wind.append(response['wind']['speed'])\n",
    "        max_temp.append(response['main']['temp_max'])\n",
    "        locations.append(city)\n",
    "        print(f\"Processing Record | {city} found\")\n",
    "    except KeyError:\n",
    "        print(f\"Processing Record | {city} not found\")\n",
    "        pass"
   ]
  },
  {
   "cell_type": "markdown",
   "metadata": {},
   "source": [
    "### Convert Raw Data to DataFrame\n",
    "* Export the city data into a .csv.\n",
    "* Display the DataFrame"
   ]
  },
  {
   "cell_type": "code",
   "execution_count": 16,
   "metadata": {
    "scrolled": true
   },
   "outputs": [
    {
     "data": {
      "text/html": [
       "<div>\n",
       "<style scoped>\n",
       "    .dataframe tbody tr th:only-of-type {\n",
       "        vertical-align: middle;\n",
       "    }\n",
       "\n",
       "    .dataframe tbody tr th {\n",
       "        vertical-align: top;\n",
       "    }\n",
       "\n",
       "    .dataframe thead th {\n",
       "        text-align: right;\n",
       "    }\n",
       "</style>\n",
       "<table border=\"1\" class=\"dataframe\">\n",
       "  <thead>\n",
       "    <tr style=\"text-align: right;\">\n",
       "      <th></th>\n",
       "      <th>City</th>\n",
       "      <th>Latitude</th>\n",
       "      <th>Longitude</th>\n",
       "      <th>Temperature</th>\n",
       "      <th>Humidity</th>\n",
       "      <th>Cloudiness</th>\n",
       "      <th>Wind Speed</th>\n",
       "      <th>Max Temp</th>\n",
       "    </tr>\n",
       "  </thead>\n",
       "  <tbody>\n",
       "    <tr>\n",
       "      <th>0</th>\n",
       "      <td>makat</td>\n",
       "      <td>47.65</td>\n",
       "      <td>53.35</td>\n",
       "      <td>28.76</td>\n",
       "      <td>92</td>\n",
       "      <td>0</td>\n",
       "      <td>8.50</td>\n",
       "      <td>28.76</td>\n",
       "    </tr>\n",
       "    <tr>\n",
       "      <th>1</th>\n",
       "      <td>kapaa</td>\n",
       "      <td>22.08</td>\n",
       "      <td>-159.32</td>\n",
       "      <td>70.39</td>\n",
       "      <td>83</td>\n",
       "      <td>1</td>\n",
       "      <td>6.93</td>\n",
       "      <td>71.60</td>\n",
       "    </tr>\n",
       "    <tr>\n",
       "      <th>2</th>\n",
       "      <td>castro</td>\n",
       "      <td>-24.79</td>\n",
       "      <td>-50.01</td>\n",
       "      <td>67.51</td>\n",
       "      <td>98</td>\n",
       "      <td>100</td>\n",
       "      <td>3.49</td>\n",
       "      <td>67.51</td>\n",
       "    </tr>\n",
       "    <tr>\n",
       "      <th>3</th>\n",
       "      <td>nantucket</td>\n",
       "      <td>41.28</td>\n",
       "      <td>-70.10</td>\n",
       "      <td>39.11</td>\n",
       "      <td>69</td>\n",
       "      <td>90</td>\n",
       "      <td>6.93</td>\n",
       "      <td>39.99</td>\n",
       "    </tr>\n",
       "    <tr>\n",
       "      <th>4</th>\n",
       "      <td>abu samrah</td>\n",
       "      <td>35.30</td>\n",
       "      <td>37.18</td>\n",
       "      <td>45.01</td>\n",
       "      <td>64</td>\n",
       "      <td>0</td>\n",
       "      <td>5.97</td>\n",
       "      <td>45.01</td>\n",
       "    </tr>\n",
       "  </tbody>\n",
       "</table>\n",
       "</div>"
      ],
      "text/plain": [
       "         City  Latitude  Longitude  Temperature  Humidity  Cloudiness  \\\n",
       "0       makat     47.65      53.35        28.76        92           0   \n",
       "1       kapaa     22.08    -159.32        70.39        83           1   \n",
       "2      castro    -24.79     -50.01        67.51        98         100   \n",
       "3   nantucket     41.28     -70.10        39.11        69          90   \n",
       "4  abu samrah     35.30      37.18        45.01        64           0   \n",
       "\n",
       "   Wind Speed  Max Temp  \n",
       "0        8.50     28.76  \n",
       "1        6.93     71.60  \n",
       "2        3.49     67.51  \n",
       "3        6.93     39.99  \n",
       "4        5.97     45.01  "
      ]
     },
     "execution_count": 16,
     "metadata": {},
     "output_type": "execute_result"
    }
   ],
   "source": [
    "# create a data frame from lists generated\n",
    "weather_dict = {\n",
    "    \"City\": locations,\n",
    "    \"Latitude\": lat,\n",
    "    \"Longitude\": lng,\n",
    "    \"Temperature\": temp,\n",
    "    \"Humidity\": humidity,\n",
    "    \"Cloudiness\": cloud, \n",
    "    \"Wind Speed\": wind,\n",
    "    \"Max Temp\": max_temp\n",
    "}\n",
    "weather_data = pd.DataFrame(weather_dict)\n",
    "weather_data.head()"
   ]
  },
  {
   "cell_type": "code",
   "execution_count": 17,
   "metadata": {},
   "outputs": [],
   "source": [
    "#export the city data into a csv\n",
    "weather_data.to_csv('weather_data',index=False)"
   ]
  },
  {
   "cell_type": "markdown",
   "metadata": {},
   "source": [
    "### Plotting the Data\n",
    "* Use proper labeling of the plots using plot titles (including date of analysis) and axes labels.\n",
    "* Save the plotted figures as .pngs."
   ]
  },
  {
   "cell_type": "markdown",
   "metadata": {},
   "source": [
    "#### Latitude vs. Temperature Plot"
   ]
  },
  {
   "cell_type": "code",
   "execution_count": 18,
   "metadata": {
    "scrolled": true
   },
   "outputs": [
    {
     "data": {
      "image/png": "[encoded data removed]",
      "text/plain": [
       "<Figure size 432x288 with 1 Axes>"
      ]
     },
     "metadata": {
      "needs_background": "light"
     },
     "output_type": "display_data"
    },
    {
     "data": {
      "text/plain": [
       "<Figure size 432x288 with 0 Axes>"
      ]
     },
     "metadata": {},
     "output_type": "display_data"
    }
   ],
   "source": [
    "# Create a Scatter Plot for latitude vs temperature\n",
    "x_values = weather_data['Latitude']\n",
    "y_values = weather_data['Temperature']\n",
    "plt.scatter(x_values,y_values)\n",
    "plt.xlabel('Latitude')\n",
    "plt.ylabel('Temperature (F)')\n",
    "plt.title(('Temperature (F) vs. Latitude') + \" \" + pd.datetime.now().strftime(\"%m/%d/%Y\"))\n",
    "plt.show()\n",
    "plt.savefig('temperature_latitude')"
   ]
  },
  {
   "cell_type": "markdown",
   "metadata": {},
   "source": [
    "#### Latitude vs. Humidity Plot"
   ]
  },
  {
   "cell_type": "code",
   "execution_count": 19,
   "metadata": {},
   "outputs": [
    {
     "data": {
      "image/png": "[encoded data removed]",
      "text/plain": [
       "<Figure size 432x288 with 1 Axes>"
      ]
     },
     "metadata": {
      "needs_background": "light"
     },
     "output_type": "display_data"
    },
    {
     "data": {
      "text/plain": [
       "<Figure size 432x288 with 0 Axes>"
      ]
     },
     "metadata": {},
     "output_type": "display_data"
    }
   ],
   "source": [
    "# Create a Scatter Plot for latitude vs humidity\n",
    "x_values = weather_data['Latitude']\n",
    "y_values1 = weather_data['Humidity']\n",
    "plt.scatter(x_values,y_values1)\n",
    "plt.xlabel('Latitude')\n",
    "plt.ylabel('Humidity (%)')\n",
    "plt.title(('Humidity (%) vs. Latitude') + \" \" + pd.datetime.now().strftime(\"%m/%d/%Y\"))\n",
    "plt.show()\n",
    "plt.savefig('humidity_latitude')"
   ]
  },
  {
   "cell_type": "markdown",
   "metadata": {},
   "source": [
    "#### Latitude vs. Cloudiness Plot"
   ]
  },
  {
   "cell_type": "code",
   "execution_count": 20,
   "metadata": {},
   "outputs": [
    {
     "data": {
      "image/png": "[encoded data removed]",
      "text/plain": [
       "<Figure size 432x288 with 1 Axes>"
      ]
     },
     "metadata": {
      "needs_background": "light"
     },
     "output_type": "display_data"
    },
    {
     "data": {
      "text/plain": [
       "<Figure size 432x288 with 0 Axes>"
      ]
     },
     "metadata": {},
     "output_type": "display_data"
    }
   ],
   "source": [
    "# Create a Scatter Plot for latitude vs cloudiness\n",
    "x_values = weather_data['Latitude']\n",
    "y_values2 = weather_data['Cloudiness']\n",
    "plt.scatter(x_values,y_values2)\n",
    "plt.xlabel('Latitude')\n",
    "plt.ylabel('Cloudiness (%)')\n",
    "plt.title(('Cloudiness (%) vs. Latitude') + \" \" + pd.datetime.now().strftime(\"%m/%d/%Y\"))\n",
    "plt.show()\n",
    "plt.savefig('cloudiness_latitude')"
   ]
  },
  {
   "cell_type": "markdown",
   "metadata": {},
   "source": [
    "#### Latitude vs. Wind Speed Plot"
   ]
  },
  {
   "cell_type": "code",
   "execution_count": 21,
   "metadata": {},
   "outputs": [
    {
     "data": {
      "image/png": "[encoded data removed]",
      "text/plain": [
       "<Figure size 432x288 with 1 Axes>"
      ]
     },
     "metadata": {
      "needs_background": "light"
     },
     "output_type": "display_data"
    },
    {
     "data": {
      "text/plain": [
       "<Figure size 432x288 with 0 Axes>"
      ]
     },
     "metadata": {},
     "output_type": "display_data"
    }
   ],
   "source": [
    "# Create a Scatter Plot for latitude vs wind speed\n",
    "x_values = weather_data['Latitude']\n",
    "y_values3 = weather_data['Wind Speed']\n",
    "plt.scatter(x_values,y_values3)\n",
    "plt.xlabel('Latitude')\n",
    "plt.ylabel('Wind Speed (mph)')\n",
    "plt.title(('Wind Speed (mph) vs. Latitude') + \" \" + pd.datetime.now().strftime(\"%m/%d/%Y\"))\n",
    "plt.show()\n",
    "plt.savefig('wind speed_latitude')"
   ]
  },
  {
   "cell_type": "markdown",
   "metadata": {},
   "source": [
    "## Linear Regression"
   ]
  },
  {
   "cell_type": "code",
   "execution_count": 108,
   "metadata": {},
   "outputs": [],
   "source": [
    "# OPTIONAL: Create a function to create Linear Regression plots\n"
   ]
  },
  {
   "cell_type": "code",
   "execution_count": 22,
   "metadata": {},
   "outputs": [
    {
     "data": {
      "text/html": [
       "<div>\n",
       "<style scoped>\n",
       "    .dataframe tbody tr th:only-of-type {\n",
       "        vertical-align: middle;\n",
       "    }\n",
       "\n",
       "    .dataframe tbody tr th {\n",
       "        vertical-align: top;\n",
       "    }\n",
       "\n",
       "    .dataframe thead th {\n",
       "        text-align: right;\n",
       "    }\n",
       "</style>\n",
       "<table border=\"1\" class=\"dataframe\">\n",
       "  <thead>\n",
       "    <tr style=\"text-align: right;\">\n",
       "      <th></th>\n",
       "      <th>City</th>\n",
       "      <th>Latitude</th>\n",
       "      <th>Longitude</th>\n",
       "      <th>Temperature</th>\n",
       "      <th>Humidity</th>\n",
       "      <th>Cloudiness</th>\n",
       "      <th>Wind Speed</th>\n",
       "      <th>Max Temp</th>\n",
       "    </tr>\n",
       "  </thead>\n",
       "  <tbody>\n",
       "    <tr>\n",
       "      <th>0</th>\n",
       "      <td>makat</td>\n",
       "      <td>47.65</td>\n",
       "      <td>53.35</td>\n",
       "      <td>28.76</td>\n",
       "      <td>92</td>\n",
       "      <td>0</td>\n",
       "      <td>8.50</td>\n",
       "      <td>28.76</td>\n",
       "    </tr>\n",
       "    <tr>\n",
       "      <th>1</th>\n",
       "      <td>kapaa</td>\n",
       "      <td>22.08</td>\n",
       "      <td>-159.32</td>\n",
       "      <td>70.39</td>\n",
       "      <td>83</td>\n",
       "      <td>1</td>\n",
       "      <td>6.93</td>\n",
       "      <td>71.60</td>\n",
       "    </tr>\n",
       "    <tr>\n",
       "      <th>3</th>\n",
       "      <td>nantucket</td>\n",
       "      <td>41.28</td>\n",
       "      <td>-70.10</td>\n",
       "      <td>39.11</td>\n",
       "      <td>69</td>\n",
       "      <td>90</td>\n",
       "      <td>6.93</td>\n",
       "      <td>39.99</td>\n",
       "    </tr>\n",
       "    <tr>\n",
       "      <th>4</th>\n",
       "      <td>abu samrah</td>\n",
       "      <td>35.30</td>\n",
       "      <td>37.18</td>\n",
       "      <td>45.01</td>\n",
       "      <td>64</td>\n",
       "      <td>0</td>\n",
       "      <td>5.97</td>\n",
       "      <td>45.01</td>\n",
       "    </tr>\n",
       "    <tr>\n",
       "      <th>7</th>\n",
       "      <td>tottori</td>\n",
       "      <td>35.50</td>\n",
       "      <td>134.23</td>\n",
       "      <td>41.74</td>\n",
       "      <td>78</td>\n",
       "      <td>32</td>\n",
       "      <td>9.44</td>\n",
       "      <td>41.74</td>\n",
       "    </tr>\n",
       "  </tbody>\n",
       "</table>\n",
       "</div>"
      ],
      "text/plain": [
       "         City  Latitude  Longitude  Temperature  Humidity  Cloudiness  \\\n",
       "0       makat     47.65      53.35        28.76        92           0   \n",
       "1       kapaa     22.08    -159.32        70.39        83           1   \n",
       "3   nantucket     41.28     -70.10        39.11        69          90   \n",
       "4  abu samrah     35.30      37.18        45.01        64           0   \n",
       "7     tottori     35.50     134.23        41.74        78          32   \n",
       "\n",
       "   Wind Speed  Max Temp  \n",
       "0        8.50     28.76  \n",
       "1        6.93     71.60  \n",
       "3        6.93     39.99  \n",
       "4        5.97     45.01  \n",
       "7        9.44     41.74  "
      ]
     },
     "execution_count": 22,
     "metadata": {},
     "output_type": "execute_result"
    }
   ],
   "source": [
    "# Create Northern and Southern Hemisphere DataFrames\n",
    "# Create Northern Hemisphere DataFrame\n",
    "northern_df = weather_data.loc[weather_data['Latitude'] > 0 ]\n",
    "northern_df.head()"
   ]
  },
  {
   "cell_type": "code",
   "execution_count": 23,
   "metadata": {},
   "outputs": [
    {
     "data": {
      "text/html": [
       "<div>\n",
       "<style scoped>\n",
       "    .dataframe tbody tr th:only-of-type {\n",
       "        vertical-align: middle;\n",
       "    }\n",
       "\n",
       "    .dataframe tbody tr th {\n",
       "        vertical-align: top;\n",
       "    }\n",
       "\n",
       "    .dataframe thead th {\n",
       "        text-align: right;\n",
       "    }\n",
       "</style>\n",
       "<table border=\"1\" class=\"dataframe\">\n",
       "  <thead>\n",
       "    <tr style=\"text-align: right;\">\n",
       "      <th></th>\n",
       "      <th>City</th>\n",
       "      <th>Latitude</th>\n",
       "      <th>Longitude</th>\n",
       "      <th>Temperature</th>\n",
       "      <th>Humidity</th>\n",
       "      <th>Cloudiness</th>\n",
       "      <th>Wind Speed</th>\n",
       "      <th>Max Temp</th>\n",
       "    </tr>\n",
       "  </thead>\n",
       "  <tbody>\n",
       "    <tr>\n",
       "      <th>2</th>\n",
       "      <td>castro</td>\n",
       "      <td>-24.79</td>\n",
       "      <td>-50.01</td>\n",
       "      <td>67.51</td>\n",
       "      <td>98</td>\n",
       "      <td>100</td>\n",
       "      <td>3.49</td>\n",
       "      <td>67.51</td>\n",
       "    </tr>\n",
       "    <tr>\n",
       "      <th>5</th>\n",
       "      <td>hobart</td>\n",
       "      <td>-42.88</td>\n",
       "      <td>147.33</td>\n",
       "      <td>45.05</td>\n",
       "      <td>70</td>\n",
       "      <td>40</td>\n",
       "      <td>11.41</td>\n",
       "      <td>48.20</td>\n",
       "    </tr>\n",
       "    <tr>\n",
       "      <th>6</th>\n",
       "      <td>bluff</td>\n",
       "      <td>-46.60</td>\n",
       "      <td>168.33</td>\n",
       "      <td>61.00</td>\n",
       "      <td>99</td>\n",
       "      <td>100</td>\n",
       "      <td>1.01</td>\n",
       "      <td>61.00</td>\n",
       "    </tr>\n",
       "    <tr>\n",
       "      <th>9</th>\n",
       "      <td>cape town</td>\n",
       "      <td>-33.93</td>\n",
       "      <td>18.42</td>\n",
       "      <td>69.49</td>\n",
       "      <td>94</td>\n",
       "      <td>75</td>\n",
       "      <td>16.11</td>\n",
       "      <td>71.01</td>\n",
       "    </tr>\n",
       "    <tr>\n",
       "      <th>13</th>\n",
       "      <td>rikitea</td>\n",
       "      <td>-23.12</td>\n",
       "      <td>-134.97</td>\n",
       "      <td>79.77</td>\n",
       "      <td>77</td>\n",
       "      <td>100</td>\n",
       "      <td>14.70</td>\n",
       "      <td>79.77</td>\n",
       "    </tr>\n",
       "  </tbody>\n",
       "</table>\n",
       "</div>"
      ],
      "text/plain": [
       "         City  Latitude  Longitude  Temperature  Humidity  Cloudiness  \\\n",
       "2      castro    -24.79     -50.01        67.51        98         100   \n",
       "5      hobart    -42.88     147.33        45.05        70          40   \n",
       "6       bluff    -46.60     168.33        61.00        99         100   \n",
       "9   cape town    -33.93      18.42        69.49        94          75   \n",
       "13    rikitea    -23.12    -134.97        79.77        77         100   \n",
       "\n",
       "    Wind Speed  Max Temp  \n",
       "2         3.49     67.51  \n",
       "5        11.41     48.20  \n",
       "6         1.01     61.00  \n",
       "9        16.11     71.01  \n",
       "13       14.70     79.77  "
      ]
     },
     "execution_count": 23,
     "metadata": {},
     "output_type": "execute_result"
    }
   ],
   "source": [
    "southern_df = weather_data.loc[weather_data['Latitude'] < 0 ]\n",
    "southern_df.head()"
   ]
  },
  {
   "cell_type": "markdown",
   "metadata": {},
   "source": [
    "####  Northern Hemisphere - Max Temp vs. Latitude Linear Regression"
   ]
  },
  {
   "cell_type": "code",
   "execution_count": 24,
   "metadata": {},
   "outputs": [
    {
     "name": "stdout",
     "output_type": "stream",
     "text": [
      "The r-squared is: 0.705\n"
     ]
    },
    {
     "data": {
      "image/png": "[encoded data removed]",
      "text/plain": [
       "<Figure size 432x288 with 1 Axes>"
      ]
     },
     "metadata": {
      "needs_background": "light"
     },
     "output_type": "display_data"
    },
    {
     "data": {
      "text/plain": [
       "<Figure size 432x288 with 0 Axes>"
      ]
     },
     "metadata": {},
     "output_type": "display_data"
    }
   ],
   "source": [
    "#x & y\n",
    "north_lat = northern_df['Latitude']\n",
    "north_max_temp = northern_df['Max Temp']\n",
    "\n",
    "# Perform a linear regression on temperature vs. latitude\n",
    "(slope, intercept, rvalue, pvalue, stderr) = linregress(north_lat, north_max_temp)\n",
    "\n",
    "# Get regression values\n",
    "regress_values = north_lat * slope + intercept\n",
    "\n",
    "# Create line equation string\n",
    "line_eq = \"y = \" + str(round(slope,2)) + \"x +\" + str(round(intercept,2))\n",
    "\n",
    "# Create Plot\n",
    "plt.scatter(north_lat,north_max_temp)\n",
    "plt.plot(north_lat,regress_values,\"r-\")\n",
    "\n",
    "# Label plot and annotate the line equation\n",
    "plt.xlabel('Latitude')\n",
    "plt.ylabel('Max Temperature (F)')\n",
    "plt.title(('Northern Hemisphere Max Temp (F) vs. Latitude') + \" \" + pd.datetime.now().strftime(\"%m/%d/%Y\"))\n",
    "plt.annotate(line_eq,(10,-30),fontsize=15,color=\"red\")\n",
    "\n",
    "# Print r square value\n",
    "rvalue2 = round(rvalue * rvalue,3)\n",
    "print(f\"The r-squared is: {rvalue2}\")\n",
    "\n",
    "# Show plot\n",
    "plt.show()\n",
    "plt.savefig('north_maxtemp_latitude')"
   ]
  },
  {
   "cell_type": "markdown",
   "metadata": {},
   "source": [
    "####  Southern Hemisphere - Max Temp vs. Latitude Linear Regression"
   ]
  },
  {
   "cell_type": "code",
   "execution_count": 25,
   "metadata": {},
   "outputs": [
    {
     "name": "stdout",
     "output_type": "stream",
     "text": [
      "The r-squared is: 0.217\n"
     ]
    },
    {
     "data": {
      "image/png": "[encoded data removed]",
      "text/plain": [
       "<Figure size 432x288 with 1 Axes>"
      ]
     },
     "metadata": {
      "needs_background": "light"
     },
     "output_type": "display_data"
    },
    {
     "data": {
      "text/plain": [
       "<Figure size 432x288 with 0 Axes>"
      ]
     },
     "metadata": {},
     "output_type": "display_data"
    }
   ],
   "source": [
    "#x & y\n",
    "south_lat = southern_df['Latitude']\n",
    "south_max_temp = southern_df['Max Temp']\n",
    "\n",
    "# Perform a linear regression on temperature vs. latitude\n",
    "(slope, intercept, rvalue, pvalue, stderr) = linregress(south_lat, south_max_temp)\n",
    "\n",
    "# Get regression values\n",
    "regress_values = south_lat * slope + intercept\n",
    "\n",
    "# Create line equation string\n",
    "line_eq = \"y = \" + str(round(slope,2)) + \"x +\" + str(round(intercept,2))\n",
    "\n",
    "# Create Plot\n",
    "plt.scatter(south_lat,south_max_temp)\n",
    "plt.plot(south_lat,regress_values,\"r-\")\n",
    "\n",
    "# Label plot and annotate the line equation\n",
    "plt.xlabel('Latitude')\n",
    "plt.ylabel('Max Temperature (F)')\n",
    "plt.title(('Southern Hemisphere Max Temp (F) vs. Latitude') + \" \" + pd.datetime.now().strftime(\"%m/%d/%Y\"))\n",
    "plt.annotate(line_eq,(-45,50),fontsize=15,color=\"red\")\n",
    "\n",
    "# Print r square value\n",
    "rvalue2 = round(rvalue * rvalue,3)\n",
    "print(f\"The r-squared is: {rvalue2}\")\n",
    "\n",
    "# Show plot\n",
    "plt.show()\n",
    "plt.savefig('south_maxtemp_latitude')"
   ]
  },
  {
   "cell_type": "markdown",
   "metadata": {},
   "source": [
    "####  Northern Hemisphere - Humidity (%) vs. Latitude Linear Regression"
   ]
  },
  {
   "cell_type": "code",
   "execution_count": 26,
   "metadata": {},
   "outputs": [
    {
     "name": "stdout",
     "output_type": "stream",
     "text": [
      "The r-squared is: 0.141\n"
     ]
    },
    {
     "data": {
      "image/png": "[encoded data removed]",
      "text/plain": [
       "<Figure size 432x288 with 1 Axes>"
      ]
     },
     "metadata": {
      "needs_background": "light"
     },
     "output_type": "display_data"
    },
    {
     "data": {
      "text/plain": [
       "<Figure size 432x288 with 0 Axes>"
      ]
     },
     "metadata": {},
     "output_type": "display_data"
    }
   ],
   "source": [
    "#x & y\n",
    "north_humid = northern_df['Humidity']\n",
    "\n",
    "# Perform a linear regression on temperature vs. latitude\n",
    "(slope, intercept, rvalue, pvalue, stderr) = linregress(north_lat, north_humid)\n",
    "\n",
    "# Get regression values\n",
    "regress_values = north_lat * slope + intercept\n",
    "\n",
    "# Create line equation string\n",
    "line_eq = \"y = \" + str(round(slope,2)) + \"x +\" + str(round(intercept,2))\n",
    "\n",
    "# Create Plot\n",
    "plt.scatter(north_lat,north_humid)\n",
    "plt.plot(north_lat,regress_values,\"r-\")\n",
    "\n",
    "# Label plot and annotate the line equation\n",
    "plt.xlabel('Latitude')\n",
    "plt.ylabel('Humidity (%)')\n",
    "plt.title(('Northern Hemisphere Humidity (%) vs. Latitude') + \" \" + pd.datetime.now().strftime(\"%m/%d/%Y\"))\n",
    "plt.annotate(line_eq,(40,20),fontsize=15,color=\"red\")\n",
    "\n",
    "# Print r square value\n",
    "rvalue2 = round(rvalue * rvalue,3)\n",
    "print(f\"The r-squared is: {rvalue2}\")\n",
    "\n",
    "# Show plot\n",
    "plt.show()\n",
    "plt.savefig('north_humidity_latitude')"
   ]
  },
  {
   "cell_type": "markdown",
   "metadata": {},
   "source": [
    "####  Southern Hemisphere - Humidity (%) vs. Latitude Linear Regression"
   ]
  },
  {
   "cell_type": "code",
   "execution_count": 27,
   "metadata": {},
   "outputs": [
    {
     "name": "stdout",
     "output_type": "stream",
     "text": [
      "The r-squared is: 0.062\n"
     ]
    },
    {
     "data": {
      "image/png": "[encoded data removed]",
      "text/plain": [
       "<Figure size 432x288 with 1 Axes>"
      ]
     },
     "metadata": {
      "needs_background": "light"
     },
     "output_type": "display_data"
    },
    {
     "data": {
      "text/plain": [
       "<Figure size 432x288 with 0 Axes>"
      ]
     },
     "metadata": {},
     "output_type": "display_data"
    }
   ],
   "source": [
    "#x & y\n",
    "south_humid = southern_df['Humidity']\n",
    "\n",
    "# Perform a linear regression on temperature vs. latitude\n",
    "(slope, intercept, rvalue, pvalue, stderr) = linregress(south_lat, south_humid)\n",
    "\n",
    "# Get regression values\n",
    "regress_values = south_lat * slope + intercept\n",
    "\n",
    "# Create line equation string\n",
    "line_eq = \"y = \" + str(round(slope,2)) + \"x +\" + str(round(intercept,2))\n",
    "\n",
    "# Create Plot\n",
    "plt.scatter(south_lat,south_humid)\n",
    "plt.plot(south_lat,regress_values,\"r-\")\n",
    "\n",
    "# Label plot and annotate the line equation\n",
    "plt.xlabel('Latitude')\n",
    "plt.ylabel('Humidity (%)')\n",
    "plt.title(('Southern Hemisphere Humidity (%) vs. Latitude') + \" \" + pd.datetime.now().strftime(\"%m/%d/%Y\"))\n",
    "plt.annotate(line_eq,(-40,20),fontsize=15,color=\"red\")\n",
    "\n",
    "# Print r square value\n",
    "rvalue2 = round(rvalue * rvalue,3)\n",
    "print(f\"The r-squared is: {rvalue2}\")\n",
    "\n",
    "# Show plot\n",
    "plt.show()\n",
    "plt.savefig('south_humidity_latitude')"
   ]
  },
  {
   "cell_type": "markdown",
   "metadata": {},
   "source": [
    "####  Northern Hemisphere - Cloudiness (%) vs. Latitude Linear Regression"
   ]
  },
  {
   "cell_type": "code",
   "execution_count": 28,
   "metadata": {},
   "outputs": [
    {
     "name": "stdout",
     "output_type": "stream",
     "text": [
      "The r-squared is: 0.076\n"
     ]
    },
    {
     "data": {
      "image/png": "[encoded data removed]",
      "text/plain": [
       "<Figure size 432x288 with 1 Axes>"
      ]
     },
     "metadata": {
      "needs_background": "light"
     },
     "output_type": "display_data"
    },
    {
     "data": {
      "text/plain": [
       "<Figure size 432x288 with 0 Axes>"
      ]
     },
     "metadata": {},
     "output_type": "display_data"
    }
   ],
   "source": [
    "#x & y\n",
    "north_cloud = northern_df['Cloudiness']\n",
    "\n",
    "# Perform a linear regression on temperature vs. latitude\n",
    "(slope, intercept, rvalue, pvalue, stderr) = linregress(north_lat, north_cloud)\n",
    "\n",
    "# Get regression values\n",
    "regress_values = north_lat * slope + intercept\n",
    "\n",
    "# Create line equation string\n",
    "line_eq = \"y = \" + str(round(slope,2)) + \"x +\" + str(round(intercept,2))\n",
    "\n",
    "# Create Plot\n",
    "plt.scatter(north_lat,north_cloud)\n",
    "plt.plot(north_lat,regress_values,\"r-\")\n",
    "\n",
    "# Label plot and annotate the line equation\n",
    "plt.xlabel('Latitude')\n",
    "plt.ylabel('Cloudiness (%)')\n",
    "plt.title(('Northern Hemisphere Cloudiness (%) vs. Latitude') + \" \" + pd.datetime.now().strftime(\"%m/%d/%Y\"))\n",
    "plt.annotate(line_eq,(40,30),fontsize=15,color=\"red\")\n",
    "\n",
    "# Print r square value\n",
    "rvalue2 = round(rvalue * rvalue,3)\n",
    "print(f\"The r-squared is: {rvalue2}\")\n",
    "\n",
    "# Show plot\n",
    "plt.show()\n",
    "plt.savefig('north_cloud_latitude')"
   ]
  },
  {
   "cell_type": "markdown",
   "metadata": {},
   "source": [
    "####  Southern Hemisphere - Cloudiness (%) vs. Latitude Linear Regression"
   ]
  },
  {
   "cell_type": "code",
   "execution_count": 29,
   "metadata": {},
   "outputs": [
    {
     "name": "stdout",
     "output_type": "stream",
     "text": [
      "The r-squared is: 0.038\n"
     ]
    },
    {
     "data": {
      "image/png": "[encoded data removed]",
      "text/plain": [
       "<Figure size 432x288 with 1 Axes>"
      ]
     },
     "metadata": {
      "needs_background": "light"
     },
     "output_type": "display_data"
    },
    {
     "data": {
      "text/plain": [
       "<Figure size 432x288 with 0 Axes>"
      ]
     },
     "metadata": {},
     "output_type": "display_data"
    }
   ],
   "source": [
    "#x & y\n",
    "south_cloud = southern_df['Cloudiness']\n",
    "\n",
    "# Perform a linear regression on temperature vs. latitude\n",
    "(slope, intercept, rvalue, pvalue, stderr) = linregress(south_lat, south_cloud)\n",
    "\n",
    "# Get regression values\n",
    "regress_values = south_lat * slope + intercept\n",
    "\n",
    "# Create line equation string\n",
    "line_eq = \"y = \" + str(round(slope,2)) + \"x +\" + str(round(intercept,2))\n",
    "\n",
    "# Create Plot\n",
    "plt.scatter(south_lat,south_cloud)\n",
    "plt.plot(south_lat,regress_values,\"r-\")\n",
    "\n",
    "# Label plot and annotate the line equation\n",
    "plt.xlabel('Latitude')\n",
    "plt.ylabel('Cloudiness (%)')\n",
    "plt.title(('Southern Hemisphere Cloudiness (%) vs. Latitude') + \" \" + pd.datetime.now().strftime(\"%m/%d/%Y\"))\n",
    "plt.annotate(line_eq,(-50,80),fontsize=15,color=\"red\")\n",
    "\n",
    "# Print r square value\n",
    "rvalue2 = round(rvalue * rvalue,3)\n",
    "print(f\"The r-squared is: {rvalue2}\")\n",
    "\n",
    "# Show plot\n",
    "plt.show()\n",
    "plt.savefig('south_cloud_latitude')"
   ]
  },
  {
   "cell_type": "markdown",
   "metadata": {},
   "source": [
    "####  Northern Hemisphere - Wind Speed (mph) vs. Latitude Linear Regression"
   ]
  },
  {
   "cell_type": "code",
   "execution_count": 30,
   "metadata": {},
   "outputs": [
    {
     "name": "stdout",
     "output_type": "stream",
     "text": [
      "The r-squared is: 0.014\n"
     ]
    },
    {
     "data": {
      "image/png": "[encoded data removed]",
      "text/plain": [
       "<Figure size 432x288 with 1 Axes>"
      ]
     },
     "metadata": {
      "needs_background": "light"
     },
     "output_type": "display_data"
    },
    {
     "data": {
      "text/plain": [
       "<Figure size 432x288 with 0 Axes>"
      ]
     },
     "metadata": {},
     "output_type": "display_data"
    }
   ],
   "source": [
    "#x & y\n",
    "north_wind = northern_df['Wind Speed']\n",
    "\n",
    "# Perform a linear regression on temperature vs. latitude\n",
    "(slope, intercept, rvalue, pvalue, stderr) = linregress(north_lat, north_wind)\n",
    "\n",
    "# Get regression values\n",
    "regress_values = north_lat * slope + intercept\n",
    "\n",
    "# Create line equation string\n",
    "line_eq = \"y = \" + str(round(slope,2)) + \"x +\" + str(round(intercept,2))\n",
    "\n",
    "# Create Plot\n",
    "plt.scatter(north_lat,north_wind)\n",
    "plt.plot(north_lat,regress_values,\"r-\")\n",
    "\n",
    "# Label plot and annotate the line equation\n",
    "plt.xlabel('Latitude')\n",
    "plt.ylabel('Wind Speed (mph)')\n",
    "plt.title(('Northern Hemisphere Wind Speed (mph) vs. Latitude') + \" \" + pd.datetime.now().strftime(\"%m/%d/%Y\"))\n",
    "plt.annotate(line_eq,(20,30),fontsize=15,color=\"red\")\n",
    "\n",
    "# Print r square value\n",
    "rvalue2 = round(rvalue * rvalue,3)\n",
    "print(f\"The r-squared is: {rvalue2}\")\n",
    "\n",
    "# Show plot\n",
    "plt.show()\n",
    "plt.savefig('north_wind_latitude')"
   ]
  },
  {
   "cell_type": "markdown",
   "metadata": {},
   "source": [
    "####  Southern Hemisphere - Wind Speed (mph) vs. Latitude Linear Regression"
   ]
  },
  {
   "cell_type": "code",
   "execution_count": 31,
   "metadata": {},
   "outputs": [
    {
     "name": "stdout",
     "output_type": "stream",
     "text": [
      "The r-squared is: 0.036\n"
     ]
    },
    {
     "data": {
      "image/png": "[encoded data removed]",
      "text/plain": [
       "<Figure size 432x288 with 1 Axes>"
      ]
     },
     "metadata": {
      "needs_background": "light"
     },
     "output_type": "display_data"
    },
    {
     "data": {
      "text/plain": [
       "<Figure size 432x288 with 0 Axes>"
      ]
     },
     "metadata": {},
     "output_type": "display_data"
    }
   ],
   "source": [
    "#x & y\n",
    "south_wind = southern_df['Wind Speed']\n",
    "\n",
    "# Perform a linear regression on temperature vs. latitude\n",
    "(slope, intercept, rvalue, pvalue, stderr) = linregress(south_lat, south_wind)\n",
    "\n",
    "# Get regression values\n",
    "regress_values = south_lat * slope + intercept\n",
    "\n",
    "# Create line equation string\n",
    "line_eq = \"y = \" + str(round(slope,2)) + \"x +\" + str(round(intercept,2))\n",
    "\n",
    "# Create Plot\n",
    "plt.scatter(south_lat,south_wind)\n",
    "plt.plot(south_lat,regress_values,\"r-\")\n",
    "\n",
    "# Label plot and annotate the line equation\n",
    "plt.xlabel('Latitude')\n",
    "plt.ylabel('Wind Speed (mph)')\n",
    "plt.title(('Southern Hemisphere Wind Speed (mph) vs. Latitude') + \" \" + pd.datetime.now().strftime(\"%m/%d/%Y\"))\n",
    "plt.annotate(line_eq,(-50,25),fontsize=15,color=\"red\")\n",
    "\n",
    "# Print r square value\n",
    "rvalue2 = round(rvalue * rvalue,3)\n",
    "print(f\"The r-squared is: {rvalue2}\")\n",
    "\n",
    "# Show plot\n",
    "plt.show()\n",
    "plt.savefig('south_wind_latitude')"
   ]
  },
  {
   "cell_type": "code",
   "execution_count": null,
   "metadata": {},
   "outputs": [],
   "source": []
  }
 ],
 "metadata": {
  "anaconda-cloud": {},
  "kernel_info": {
   "name": "python3"
  },
  "kernelspec": {
   "display_name": "Python 3",
   "language": "python",
   "name": "python3"
  },
  "language_info": {
   "codemirror_mode": {
    "name": "ipython",
    "version": 3
   },
   "file_extension": ".py",
   "mimetype": "text/x-python",
   "name": "python",
   "nbconvert_exporter": "python",
   "pygments_lexer": "ipython3",
   "version": "3.6.9"
  },
  "latex_envs": {
   "LaTeX_envs_menu_present": true,
   "autoclose": false,
   "autocomplete": true,
   "bibliofile": "biblio.bib",
   "cite_by": "apalike",
   "current_citInitial": 1,
   "eqLabelWithNumbers": true,
   "eqNumInitial": 1,
   "hotkeys": {
    "equation": "Ctrl-E",
    "itemize": "Ctrl-I"
   },
   "labels_anchors": false,
   "latex_user_defs": false,
   "report_style_numbering": false,
   "user_envs_cfg": false
  },
  "nteract": {
   "version": "0.12.3"
  }
 },
 "nbformat": 4,
 "nbformat_minor": 2
}
